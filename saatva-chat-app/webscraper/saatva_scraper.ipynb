{
  "cells": [
    {
      "cell_type": "code",
      "execution_count": 5,
      "metadata": {
        "colab": {
          "base_uri": "https://localhost:8080/"
        },
        "id": "SnlbHnDrV_mF",
        "outputId": "1c23da8f-5989-4076-9a69-02ce69fc1c8d"
      },
      "outputs": [
        {
          "name": "stdout",
          "output_type": "stream",
          "text": [
            "Requirement already satisfied: bs4 in /Users/rheazaverchand/Code/saatva-slack-bot/.venv/lib/python3.11/site-packages (0.0.1)\n",
            "Requirement already satisfied: beautifulsoup4 in /Users/rheazaverchand/Code/saatva-slack-bot/.venv/lib/python3.11/site-packages (from bs4) (4.12.2)\n",
            "Requirement already satisfied: soupsieve>1.2 in /Users/rheazaverchand/Code/saatva-slack-bot/.venv/lib/python3.11/site-packages (from beautifulsoup4->bs4) (2.4.1)\n",
            "Note: you may need to restart the kernel to use updated packages.\n",
            "Requirement already satisfied: selenium in /Users/rheazaverchand/Code/saatva-slack-bot/.venv/lib/python3.11/site-packages (4.11.2)\n",
            "Requirement already satisfied: urllib3[socks]<3,>=1.26 in /Users/rheazaverchand/Code/saatva-slack-bot/.venv/lib/python3.11/site-packages (from selenium) (2.0.4)\n",
            "Requirement already satisfied: trio~=0.17 in /Users/rheazaverchand/Code/saatva-slack-bot/.venv/lib/python3.11/site-packages (from selenium) (0.22.2)\n",
            "Requirement already satisfied: trio-websocket~=0.9 in /Users/rheazaverchand/Code/saatva-slack-bot/.venv/lib/python3.11/site-packages (from selenium) (0.10.3)\n",
            "Requirement already satisfied: certifi>=2021.10.8 in /Users/rheazaverchand/Code/saatva-slack-bot/.venv/lib/python3.11/site-packages (from selenium) (2023.7.22)\n",
            "Requirement already satisfied: attrs>=20.1.0 in /Users/rheazaverchand/Code/saatva-slack-bot/.venv/lib/python3.11/site-packages (from trio~=0.17->selenium) (23.1.0)\n",
            "Requirement already satisfied: sortedcontainers in /Users/rheazaverchand/Code/saatva-slack-bot/.venv/lib/python3.11/site-packages (from trio~=0.17->selenium) (2.4.0)\n",
            "Requirement already satisfied: idna in /Users/rheazaverchand/Code/saatva-slack-bot/.venv/lib/python3.11/site-packages (from trio~=0.17->selenium) (3.4)\n",
            "Requirement already satisfied: outcome in /Users/rheazaverchand/Code/saatva-slack-bot/.venv/lib/python3.11/site-packages (from trio~=0.17->selenium) (1.2.0)\n",
            "Requirement already satisfied: sniffio in /Users/rheazaverchand/Code/saatva-slack-bot/.venv/lib/python3.11/site-packages (from trio~=0.17->selenium) (1.3.0)\n",
            "Requirement already satisfied: exceptiongroup in /Users/rheazaverchand/Code/saatva-slack-bot/.venv/lib/python3.11/site-packages (from trio-websocket~=0.9->selenium) (1.1.3)\n",
            "Requirement already satisfied: wsproto>=0.14 in /Users/rheazaverchand/Code/saatva-slack-bot/.venv/lib/python3.11/site-packages (from trio-websocket~=0.9->selenium) (1.2.0)\n",
            "Requirement already satisfied: pysocks!=1.5.7,<2.0,>=1.5.6 in /Users/rheazaverchand/Code/saatva-slack-bot/.venv/lib/python3.11/site-packages (from urllib3[socks]<3,>=1.26->selenium) (1.7.1)\n",
            "Requirement already satisfied: h11<1,>=0.9.0 in /Users/rheazaverchand/Code/saatva-slack-bot/.venv/lib/python3.11/site-packages (from wsproto>=0.14->trio-websocket~=0.9->selenium) (0.14.0)\n",
            "Note: you may need to restart the kernel to use updated packages.\n",
            "Requirement already satisfied: webdriver_manager in /Users/rheazaverchand/Code/saatva-slack-bot/.venv/lib/python3.11/site-packages (4.0.0)\n",
            "Requirement already satisfied: requests in /Users/rheazaverchand/Code/saatva-slack-bot/.venv/lib/python3.11/site-packages (from webdriver_manager) (2.31.0)\n",
            "Requirement already satisfied: python-dotenv in /Users/rheazaverchand/Code/saatva-slack-bot/.venv/lib/python3.11/site-packages (from webdriver_manager) (1.0.0)\n",
            "Requirement already satisfied: packaging in /Users/rheazaverchand/Code/saatva-slack-bot/.venv/lib/python3.11/site-packages (from webdriver_manager) (23.1)\n",
            "Requirement already satisfied: charset-normalizer<4,>=2 in /Users/rheazaverchand/Code/saatva-slack-bot/.venv/lib/python3.11/site-packages (from requests->webdriver_manager) (3.2.0)\n",
            "Requirement already satisfied: idna<4,>=2.5 in /Users/rheazaverchand/Code/saatva-slack-bot/.venv/lib/python3.11/site-packages (from requests->webdriver_manager) (3.4)\n",
            "Requirement already satisfied: urllib3<3,>=1.21.1 in /Users/rheazaverchand/Code/saatva-slack-bot/.venv/lib/python3.11/site-packages (from requests->webdriver_manager) (2.0.4)\n",
            "Requirement already satisfied: certifi>=2017.4.17 in /Users/rheazaverchand/Code/saatva-slack-bot/.venv/lib/python3.11/site-packages (from requests->webdriver_manager) (2023.7.22)\n",
            "Note: you may need to restart the kernel to use updated packages.\n"
          ]
        }
      ],
      "source": [
        "%pip install bs4\n",
        "%pip install selenium\n",
        "%pip install webdriver_manager"
      ]
    },
    {
      "cell_type": "code",
      "execution_count": 6,
      "metadata": {
        "id": "c84nml6YV1tO"
      },
      "outputs": [],
      "source": [
        "import requests\n",
        "import pandas as pd\n",
        "import numpy as np\n",
        "import re\n",
        "from bs4 import BeautifulSoup, NavigableString\n",
        "from selenium import webdriver\n",
        "from selenium.webdriver.common.by import By\n",
        "from selenium.webdriver.chrome.service import Service as ChromeService \n",
        "from webdriver_manager.chrome import ChromeDriverManager \n",
        "from selenium.webdriver.chrome.options import Options"
      ]
    },
    {
      "cell_type": "code",
      "execution_count": 7,
      "metadata": {
        "id": "m_68lOGkWFfs"
      },
      "outputs": [],
      "source": [
        "base_url = 'https://www.saatva.com'\n",
        "headers = {\n",
        "    'User-Agent': 'Mozilla/5.0 (Windows NT 10.0; Win64; x64) AppleWebKit/537.36 (KHTML, like Gecko) Chrome/89.0.4389.82 Safari/537.36',\n",
        "}"
      ]
    },
    {
      "cell_type": "code",
      "execution_count": 8,
      "metadata": {
        "colab": {
          "base_uri": "https://localhost:8080/"
        },
        "id": "WiVaS3JbWpze",
        "outputId": "d8058207-9381-48b5-f2ca-f18504138c56"
      },
      "outputs": [],
      "source": [
        "\n",
        "def get_product_soup(product_type):    \n",
        "    product_url = f'{base_url}/{product_type}'\n",
        "    product_response = requests.get(product_url, headers=headers)\n",
        "    print(product_response)\n",
        "    return BeautifulSoup(product_response.content,'html.parser')\n",
        "   "
      ]
    },
    {
      "cell_type": "code",
      "execution_count": 9,
      "metadata": {
        "colab": {
          "base_uri": "https://localhost:8080/"
        },
        "id": "FIxnJB9F8Pwm",
        "outputId": "e05948d5-7aad-47a5-864e-1c5e75036e75"
      },
      "outputs": [],
      "source": [
        "def get_price_range(soup):\n",
        "    price_divs = soup.find_all('div', class_='detailProductTile__price')\n",
        "\n",
        "    # Extract the desired price range from each div\n",
        "    price_ranges = []\n",
        "    for div in price_divs:\n",
        "        price = ''.join([child.string for child in div.children if isinstance(child, NavigableString)])\n",
        "        price_ranges.append(price.strip())\n",
        "\n",
        "    return price_ranges"
      ]
    },
    {
      "cell_type": "code",
      "execution_count": 10,
      "metadata": {
        "colab": {
          "base_uri": "https://localhost:8080/"
        },
        "id": "oL8MycnQb-Su",
        "outputId": "855470ec-5799-45dc-b17e-33aa9b284681"
      },
      "outputs": [],
      "source": [
        "def get_product_links(soup, product_type):\n",
        "  product_divs = soup.find_all('div', class_='detailProductTile__contentRow')\n",
        "  product_links = []\n",
        "  for div in product_divs:\n",
        "    a_tag = div.find('a')\n",
        "    if a_tag:\n",
        "      href_value = a_tag['href']\n",
        "      if href_value.startswith(f'/{product_type}'):\n",
        "        product_links.append(f'{base_url}{href_value}')\n",
        "\n",
        "  return product_links"
      ]
    },
    {
      "cell_type": "code",
      "execution_count": 11,
      "metadata": {
        "id": "o-e1hH0neEF6"
      },
      "outputs": [],
      "source": [
        "def get_title(soup):\n",
        "  try: \n",
        "    title = soup.find('h1', class_='productPanel__headingTitle').text.strip()\n",
        "\n",
        "  except AttributeError:\n",
        "    title = soup.find('h1', class_='dataStreamProductTitle__headingTitle').text.strip()\n",
        "\n",
        "  return title"
      ]
    },
    {
      "cell_type": "code",
      "execution_count": 43,
      "metadata": {},
      "outputs": [],
      "source": [
        "def get_short_description(soup):\n",
        "    description_element = soup.find('p', class_='productPanel__shortDescription--mattressPDP')\n",
        "\n",
        "# Extract the text from the located element\n",
        "    try:\n",
        "        description_text = description_element.text\n",
        "    except:\n",
        "        description_text = None\n",
        "\n",
        "    if description_text is None:\n",
        "        try:\n",
        "            description_element = soup.select_one('.productPanel__shortDescription.productPanel__shortDescription--mattressPDP')\n",
        "            description_text = description_element.text\n",
        "        except:\n",
        "            description_text = None\n",
        "\n",
        "    if description_text is None:\n",
        "        try:\n",
        "            description_element = soup.find('p', class_='productPanel__shortDescription')\n",
        "            description_text = description_element.text\n",
        "        except:\n",
        "            description_text = None\n",
        "\n",
        "    if description_text is None:\n",
        "        try:\n",
        "            description_element = soup.find('p', class_='dataStreamProductTitle__shortDescription')\n",
        "            description_text = description_element.text\n",
        "        except:\n",
        "            description_text = None\n",
        "          \n",
        "    return description_text"
      ]
    },
    {
      "cell_type": "code",
      "execution_count": 44,
      "metadata": {},
      "outputs": [],
      "source": [
        "def get_long_description(soup):\n",
        "    div_element = soup.find('div', class_='productPanel__description u-marginTop--xs')\n",
        "    if div_element is not None:\n",
        "        try:\n",
        "            main_description = div_element.find('p').text\n",
        "        except:\n",
        "            main_description = None\n",
        "    else:\n",
        "        main_description = None\n",
        "    \n",
        "    if main_description is None:\n",
        "        try:\n",
        "            div = soup.find('div', class_='productPanel__description')\n",
        "            main_description = div.find('p', recursive=False).text\n",
        "        except:\n",
        "            main_description = None\n",
        "    \n",
        "    if main_description is None:\n",
        "        try:\n",
        "            div_element = soup.find('div', class_='dataStreamLongDescription')\n",
        "            main_description = div_element.find_all('p')[1].text\n",
        "        except:\n",
        "            main_description = None\n",
        "   \n",
        "    return main_description"
      ]
    },
    {
      "cell_type": "code",
      "execution_count": 19,
      "metadata": {
        "id": "bIYQrRD1fVa2"
      },
      "outputs": [],
      "source": [
        "def get_price(soup):\n",
        "  try: \n",
        "    price_text = soup.find('span', class_='smallPriceDisplay__finalPrice').text\n",
        "    if price_text == \"\":\n",
        "        price = None\n",
        "    else:\n",
        "        price = int(''.join(filter(str.isdigit, price_text)))\n",
        "  except AttributeError:\n",
        "    price_text = soup.find('span', class_='dataStreamSmallPriceDisplay__finalPrice').text\n",
        "    if price_text == \"\":\n",
        "        price = None\n",
        "    else:\n",
        "        price = int(''.join(filter(str.isdigit, price_text)))\n",
        "\n",
        "  return price"
      ]
    },
    {
      "cell_type": "code",
      "execution_count": 20,
      "metadata": {
        "id": "FK1VMysEFXYO"
      },
      "outputs": [],
      "source": [
        "def get_sizes(soup):\n",
        "  return [div.get_text() for div in soup.select('.productPanel__toggles--size .formToggle')]"
      ]
    },
    {
      "cell_type": "code",
      "execution_count": 21,
      "metadata": {
        "id": "_UENTHCSFgUX"
      },
      "outputs": [],
      "source": [
        "def get_comfort_levels(soup):\n",
        "  return [div.get_text().strip() for div in soup.select('div[data-selector=\"buystackToggle--comfort\"]')]"
      ]
    },
    {
      "cell_type": "code",
      "execution_count": 22,
      "metadata": {},
      "outputs": [],
      "source": [
        "def get_details(soup):\n",
        "  value_prop_cards = soup.find_all(class_='valuePropCard__content')\n",
        "\n",
        "  info_list = []\n",
        "\n",
        "  for card in value_prop_cards:\n",
        "    title = card.find(class_='valuePropCard__content-heading-title').text\n",
        "    description_items = card.find_all(class_='valuePropCard__listItem')\n",
        "    description = [item.text for item in description_items]\n",
        "\n",
        "    info_list.append({\n",
        "        \"Attribute\": title,\n",
        "        \"Description\": description\n",
        "    })\n",
        "\n",
        "  return info_list"
      ]
    },
    {
      "cell_type": "code",
      "execution_count": 35,
      "metadata": {},
      "outputs": [],
      "source": [
        "def get_ratings_reviews(url):\n",
        "\n",
        "    options = Options()\n",
        "    options.add_argument('--headless=new')\n",
        "    driver = webdriver.Chrome(service=ChromeService(ChromeDriverManager().install()), options=options)\n",
        "    driver.get(url)\n",
        "    driver.implicitly_wait(10)  # wait for up to 10 seconds for elements to be available \n",
        "    \n",
        "    # Find the element containing the rating\n",
        "    try:\n",
        "        rating_element = driver.find_element(By.CLASS_NAME, 'sr-only')\n",
        "        rating_text = rating_element.text\n",
        "    except:\n",
        "        rating_text = \"\"\n",
        "\n",
        "    if rating_text == \"\":\n",
        "        try:\n",
        "            rating_element = driver.find_element(By.CLASS_NAME, 'avg-score')\n",
        "            rating_text = rating_element.text\n",
        "        except:\n",
        "            rating_text = \"\"\n",
        "\n",
        "    if rating_text == \"\":\n",
        "        try:\n",
        "            rating_element = driver.find_element(By.XPATH, '//span[@class=\"avg-score font-color-gray-darker\"]')\n",
        "            rating_text = rating_element.text\n",
        "        except:\n",
        "            rating_text = \"\"\n",
        "\n",
        "\n",
        "    # Find the element containing the number of reviews\n",
        "    try:\n",
        "        reviews_element = driver.find_element(By.XPATH, '//a[@class=\"text-m\" and contains(@aria-label, \"reviews\")]')\n",
        "        reviews_text = reviews_element.text\n",
        "    except:\n",
        "        reviews_text = \"\"\n",
        "\n",
        "    if reviews_text == \"\":\n",
        "        try:\n",
        "            reviews_element = driver.find_element(By.CLASS_NAME, 'reviews-qa-label')\n",
        "            reviews_text = reviews_element.text\n",
        "        except:\n",
        "            reviews_text = \"\"\n",
        "\n",
        "    if reviews_text == \"\":\n",
        "        try:\n",
        "            reviews_element = driver.find_element(By.XPATH, '//span[@class=\"reviews-qa-label font-color-gray\"]')\n",
        "            reviews_text = reviews_element.text.split()[0] \n",
        "        except:\n",
        "            reviews_text = \"\"\n",
        "\n",
        "    #Turn the text into a float/int\n",
        "    if rating_text == \"\":\n",
        "        rating = None\n",
        "    else:\n",
        "        rating = float(re.search(r\"(\\d+\\.\\d+)\", rating_text).group(1))\n",
        "\n",
        "    if reviews_text == \"\":\n",
        "        reviews = 0\n",
        "    else:\n",
        "        reviews = int(re.search(r\"(\\d+)\", reviews_text).group(1))\n",
        "\n",
        "    return (rating, reviews)"
      ]
    },
    {
      "cell_type": "code",
      "execution_count": 24,
      "metadata": {},
      "outputs": [],
      "source": [
        "#If this times out, run all product types individually\n",
        "\n",
        "d = {\"Product\":[],\"Description\":[], \"Price in Dollars\":[], \"Price Range\":[], \"Sizes\":[],\"Comfort Levels\":[], \"Details\":[],\n",
        "\"Rating\":[], \"Number of Reviews\":[]}\n",
        "\n",
        "product_types = ('mattresses', 'bedding', 'furniture')\n",
        "    \n",
        "\n",
        "for product_type in product_types:\n",
        "    product_soup = get_product_soup(product_type)\n",
        "    product_links = get_product_links(product_soup, product_type)\n",
        "    price_ranges = get_price_range(product_soup)\n",
        "    for i, link in enumerate(product_links):\n",
        "        pd_page = requests.get(link, headers=headers)\n",
        "        pd_soup = BeautifulSoup(pd_page.content,'html.parser')\n",
        "        d['Product'].append(get_title(pd_soup))\n",
        "        d['Description'].append(get_short_description(pd_soup))\n",
        "        d['Price in Dollars'].append(get_price(pd_soup))\n",
        "        d['Price Range'].append(price_ranges[i])\n",
        "        d['Sizes'].append(get_sizes(pd_soup))\n",
        "        d['Comfort Levels'].append(get_comfort_levels(pd_soup))\n",
        "        d['Details'].append(get_details(pd_soup))\n",
        "        rating, reviews = get_ratings_reviews(link)\n",
        "        d['Rating'].append(rating)\n",
        "        d['Number of Reviews'].append(reviews)"
      ]
    },
    {
      "cell_type": "code",
      "execution_count": null,
      "metadata": {},
      "outputs": [],
      "source": [
        "saatva_df = pd.DataFrame.from_dict(d)\n",
        "saatva_df.to_csv(\"../data/saatva_data.csv\", header=True, index=False)"
      ]
    },
    {
      "cell_type": "code",
      "execution_count": 57,
      "metadata": {},
      "outputs": [],
      "source": [
        "def for_single_product(product_type, d):\n",
        "    product_soup = get_product_soup(product_type)\n",
        "    product_links = get_product_links(product_soup, product_type)\n",
        "    price_ranges = get_price_range(product_soup)\n",
        "    for i, link in enumerate(product_links):\n",
        "        pd_page = requests.get(link, headers=headers)\n",
        "        pd_soup = BeautifulSoup(pd_page.content,'html.parser')\n",
        "        d['Product'].append(get_title(pd_soup))\n",
        "        d['Description'].append(get_short_description(pd_soup))\n",
        "        d['Price in Dollars'].append(get_price(pd_soup))\n",
        "        d['Price Range'].append(price_ranges[i])\n",
        "        d['Sizes'].append(get_sizes(pd_soup))\n",
        "        d['Comfort Levels'].append(get_comfort_levels(pd_soup))\n",
        "        d['Details'].append(get_details(pd_soup))\n",
        "        rating, reviews = get_ratings_reviews(link)\n",
        "        d['Rating'].append(rating)\n",
        "        d['Number of Reviews'].append(reviews)"
      ]
    },
    {
      "cell_type": "code",
      "execution_count": 47,
      "metadata": {},
      "outputs": [
        {
          "name": "stdout",
          "output_type": "stream",
          "text": [
            "<Response [200]>\n"
          ]
        }
      ],
      "source": [
        "d_mattress = {\"Product\":[], \"Description\":[],\"Price in Dollars\":[], \"Price Range\":[], \"Sizes\":[],\"Comfort Levels\":[], \"Details\":[],\n",
        "\"Rating\":[], \"Number of Reviews\":[]}\n",
        "for_single_product('mattresses', d=d_mattress)"
      ]
    },
    {
      "cell_type": "code",
      "execution_count": null,
      "metadata": {},
      "outputs": [],
      "source": [
        "saatva_mattress_df = pd.DataFrame.from_dict(d_mattress)\n",
        "saatva_mattress_df.to_csv(\"../data/saatva_mattress_data.csv\", header=True, index=False)"
      ]
    },
    {
      "cell_type": "code",
      "execution_count": 58,
      "metadata": {},
      "outputs": [
        {
          "name": "stdout",
          "output_type": "stream",
          "text": [
            "<Response [200]>\n"
          ]
        }
      ],
      "source": [
        "d_furniture = {\"Product\":[], \"Description\":[],\"Price in Dollars\":[], \"Price Range\":[], \"Sizes\":[],\"Comfort Levels\":[], \"Details\":[],\n",
        "\"Rating\":[], \"Number of Reviews\":[]}\n",
        "for_single_product('furniture', d=d_furniture)"
      ]
    },
    {
      "cell_type": "code",
      "execution_count": 59,
      "metadata": {},
      "outputs": [],
      "source": [
        "saatva_furniture_df = pd.DataFrame.from_dict(d_furniture)\n",
        "saatva_furniture_df.to_csv(\"../data/saatva_furniture_data.csv\", header=True, index=False)"
      ]
    },
    {
      "cell_type": "code",
      "execution_count": 61,
      "metadata": {},
      "outputs": [
        {
          "name": "stdout",
          "output_type": "stream",
          "text": [
            "<Response [200]>\n"
          ]
        }
      ],
      "source": [
        "d_bedding = {\"Product\":[], \"Description\":[],\"Price in Dollars\":[], \"Price Range\":[], \"Sizes\":[],\"Comfort Levels\":[], \"Details\":[],\n",
        "\"Rating\":[], \"Number of Reviews\":[]}\n",
        "for_single_product('bedding', d=d_bedding)"
      ]
    },
    {
      "cell_type": "code",
      "execution_count": null,
      "metadata": {},
      "outputs": [],
      "source": [
        "saatva_bedding_df = pd.DataFrame.from_dict(d_bedding)\n",
        "saatva_bedding_df.to_csv(\"../data/saatva_bedding_data.csv\", header=True, index=False)"
      ]
    }
  ],
  "metadata": {
    "colab": {
      "provenance": []
    },
    "kernelspec": {
      "display_name": "Python 3",
      "name": "python3"
    },
    "language_info": {
      "codemirror_mode": {
        "name": "ipython",
        "version": 3
      },
      "file_extension": ".py",
      "mimetype": "text/x-python",
      "name": "python",
      "nbconvert_exporter": "python",
      "pygments_lexer": "ipython3",
      "version": "3.11.4"
    }
  },
  "nbformat": 4,
  "nbformat_minor": 0
}
